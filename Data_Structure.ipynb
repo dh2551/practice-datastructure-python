{
 "cells": [
  {
   "cell_type": "markdown",
   "id": "d900d7b5",
   "metadata": {},
   "source": [
    "217. Contains Duplicate\n",
    "\n",
    "Given an integer array nums, return true if any value appears at least twice in the array, and return false if every element is distinct.\n"
   ]
  },
  {
   "cell_type": "code",
   "execution_count": 7,
   "id": "57496bd3",
   "metadata": {},
   "outputs": [],
   "source": [
    "class Solution(object):\n",
    "        \n",
    "    def containsDuplicate(self, nums):\n",
    "        return (len(nums)!= len(set(nums)))"
   ]
  },
  {
   "cell_type": "markdown",
   "id": "1a96825f",
   "metadata": {},
   "source": [
    "tests"
   ]
  },
  {
   "cell_type": "code",
   "execution_count": 9,
   "id": "28ef778d",
   "metadata": {},
   "outputs": [
    {
     "name": "stdout",
     "output_type": "stream",
     "text": [
      "False\n",
      "True\n",
      "True\n"
     ]
    }
   ],
   "source": [
    "nums1 = [1,2,3,4]\n",
    "nums2 = [1,2,3,1]\n",
    "nums3 = [1,22,23,45,57,80,97,102,506,-901,80,100]\n",
    "\n",
    "print(Solution().containsDuplicate(nums1))\n",
    "print(Solution().containsDuplicate(nums2))\n",
    "print(Solution().containsDuplicate(nums3))"
   ]
  },
  {
   "cell_type": "markdown",
   "id": "8fb262de",
   "metadata": {},
   "source": [
    "53. Maximum Subarray\n",
    "Given an integer array nums, find the subarray with the largest sum, and return its sum."
   ]
  },
  {
   "cell_type": "code",
   "execution_count": 10,
   "id": "00bf0655",
   "metadata": {},
   "outputs": [],
   "source": [
    "class Solution(object):\n",
    "    def maxSubArray(self, nums):\n",
    "        cursum = maxsum = nums[0]\n",
    "        for n in nums[1:] :\n",
    "            cursum = max(n, cursum + n)\n",
    "            maxsum = max(cursum, maxsum)\n",
    "\n",
    "        return maxsum\n"
   ]
  },
  {
   "cell_type": "code",
   "execution_count": 11,
   "id": "35c39a23",
   "metadata": {},
   "outputs": [
    {
     "name": "stdout",
     "output_type": "stream",
     "text": [
      "6\n",
      "1\n",
      "23\n"
     ]
    }
   ],
   "source": [
    "nums1 = [-2,1,-3,4,-1,2,1,-5,4]\n",
    "nums2 = [1]\n",
    "nums3 = [5,4,-1,7,8]\n",
    "\n",
    "print(Solution().maxSubArray(nums1))\n",
    "print(Solution().maxSubArray(nums2))\n",
    "print(Solution().maxSubArray(nums3))"
   ]
  },
  {
   "cell_type": "code",
   "execution_count": null,
   "id": "c1c0a13a",
   "metadata": {},
   "outputs": [],
   "source": []
  }
 ],
 "metadata": {
  "kernelspec": {
   "display_name": "Python 3 (ipykernel)",
   "language": "python",
   "name": "python3"
  },
  "language_info": {
   "codemirror_mode": {
    "name": "ipython",
    "version": 3
   },
   "file_extension": ".py",
   "mimetype": "text/x-python",
   "name": "python",
   "nbconvert_exporter": "python",
   "pygments_lexer": "ipython3",
   "version": "3.9.12"
  }
 },
 "nbformat": 4,
 "nbformat_minor": 5
}
